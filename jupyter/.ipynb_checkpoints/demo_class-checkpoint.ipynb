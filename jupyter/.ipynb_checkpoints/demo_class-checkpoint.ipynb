{
 "cells": [
  {
   "cell_type": "code",
   "execution_count": 1,
   "metadata": {},
   "outputs": [
    {
     "name": "stdout",
     "output_type": "stream",
     "text": [
      "43\n",
      "32\n",
      "22\n",
      "1\n",
      "28\n",
      "42\n",
      "4\n",
      "12\n",
      "32\n",
      "9\n",
      "6\n",
      "34\n",
      "1\n",
      "23\n",
      "27\n",
      "22\n",
      "49\n",
      "0\n",
      "43\n",
      "27\n",
      "43\n",
      "17\n",
      "42\n",
      "23\n",
      "19\n"
     ]
    }
   ],
   "source": [
    "import random\n",
    "import sys\n",
    "import os\n",
    "\n",
    "random_num = random.randrange(0,50)\n",
    "\n",
    "while (random_num != 16):\n",
    "    print(random_num)\n",
    "    random_num = random.randrange(0,50)"
   ]
  },
  {
   "cell_type": "code",
   "execution_count": 2,
   "metadata": {},
   "outputs": [
    {
     "name": "stdout",
     "output_type": "stream",
     "text": [
      "0\n",
      "other\n",
      "2\n",
      "other\n",
      "4\n",
      "other\n",
      "6\n",
      "other\n",
      "8\n"
     ]
    }
   ],
   "source": [
    "i = 0\n",
    "while (i <=20):\n",
    "    if(i%2 == 0):\n",
    "        print(i)\n",
    "    elif i == 9:\n",
    "        break\n",
    "    else:\n",
    "        print('other')\n",
    "        i+=1\n",
    "        \n",
    "        # continue jump back to the while\n",
    "        continue\n",
    "        \n",
    "    # for odd number   \n",
    "    i += 1"
   ]
  },
  {
   "cell_type": "code",
   "execution_count": 3,
   "metadata": {},
   "outputs": [
    {
     "name": "stdout",
     "output_type": "stream",
     "text": [
      "input a name:\n",
      "asdf\n",
      "asdf\n"
     ]
    }
   ],
   "source": [
    "# input\n",
    "print('input a name:')\n",
    "name_string = input()\n",
    "print(name_string)"
   ]
  },
  {
   "cell_type": "code",
   "execution_count": 4,
   "metadata": {},
   "outputs": [
    {
     "name": "stdout",
     "output_type": "stream",
     "text": [
      "wb\n",
      "test.txt\n"
     ]
    }
   ],
   "source": [
    "# file manipulate\n",
    "test_file = open('test.txt','wb')\n",
    "print(test_file.mode)\n",
    "print(test_file.name)\n",
    "\n",
    "# write to file\n",
    "test_file.write(bytes(\"write this line to the file\\nthis is 2nd line\",'UTF-8'))\n",
    "test_file.close()"
   ]
  },
  {
   "cell_type": "code",
   "execution_count": 5,
   "metadata": {},
   "outputs": [
    {
     "name": "stdout",
     "output_type": "stream",
     "text": [
      "write this line to the file\n",
      "this is 2nd line\n"
     ]
    }
   ],
   "source": [
    "# read from file\n",
    "test_file = open(\"test.txt\",\"r+\")\n",
    "test_in_file = test_file.read()\n",
    "print(test_in_file)\n",
    "test_file.close()"
   ]
  },
  {
   "cell_type": "code",
   "execution_count": 6,
   "metadata": {},
   "outputs": [],
   "source": [
    "# delete a file\n",
    "os.remove(\"test.txt\")"
   ]
  },
  {
   "cell_type": "code",
   "execution_count": 58,
   "metadata": {},
   "outputs": [
    {
     "name": "stdout",
     "output_type": "stream",
     "text": [
      "dryang is 22 cm tall and 123 kg weight and say yo man!\n"
     ]
    }
   ],
   "source": [
    "class animal:\n",
    "    # private \n",
    "    __name = \"\"\n",
    "    __height = 0\n",
    "    __weight = 0\n",
    "    __sound = 0\n",
    "    \n",
    "    # a function need a self\n",
    "    def __init__(self, name, height, weight, sound):\n",
    "        self.__name = name\n",
    "        self.__height = height\n",
    "        self.__weight = weight\n",
    "        self.__sound = sound \n",
    "        \n",
    "    def set_name(self, n):\n",
    "        for char in n:\n",
    "            if char.isalpha():\n",
    "                temp +=char\n",
    "            else:\n",
    "                print(\"wrong input\")\n",
    "                break\n",
    "        self.__name = temp\n",
    "        \n",
    "    def set_height(self, h):\n",
    "        self.__height = h\n",
    "    \n",
    "    def set_weight(self, w):\n",
    "        self.__weight = w\n",
    "    \n",
    "    def set_sound(self,s):\n",
    "        self.__sound = s\n",
    "        \n",
    "        \n",
    "    def get_name(self):\n",
    "        return self.__name\n",
    "    \n",
    "    def get_weight(self):\n",
    "        return self.__weight\n",
    "    \n",
    "    def get_height(self):\n",
    "        return self.__height\n",
    "    \n",
    "    def get_sound(self):\n",
    "        return self.__sound\n",
    "    \n",
    "    def get_type(self):\n",
    "        print('is animal')\n",
    "        \n",
    "    def to_string(self):\n",
    "        return \"{} is {} cm tall and {} kg weight and say {}\".format(self.__name,\n",
    "                                                                    self.__height,\n",
    "                                                                    self.__weight,\n",
    "                                                                    self.__sound)\n",
    "cat = animal('dryang', 22, 123, 'yo man!')\n",
    "print(cat.to_string())"
   ]
  },
  {
   "cell_type": "code",
   "execution_count": 61,
   "metadata": {},
   "outputs": [],
   "source": [
    "# inheriate\n",
    "\n",
    "class dog(animal):\n",
    "    __owner = ''\n",
    "    \n",
    "    def __init__(self, n, h, w, s, owner):\n",
    "        self.__owner = owner\n",
    "        super().__init__(n, h, w, s)\n",
    "    \n",
    "    def set_owner(self, owner):\n",
    "        self.__owner = owner\n",
    "        \n",
    "    def get_owner(self):\n",
    "        return self.__owner\n",
    "    \n",
    "    def get_type(self):\n",
    "        print('a sub-class dog')\n",
    "    \n",
    "    def to_string(self):\n",
    "        return \"{} is {} cm tall and {} kg weight and say {} and his owner is {}\".format(self.__name,\n",
    "                                                                self.__height,\n",
    "                                                                self.__weight,\n",
    "                                                                self.__sound,\n",
    "                                                                self.__owner)\n",
    "# creat a class object"
   ]
  },
  {
   "cell_type": "code",
   "execution_count": 62,
   "metadata": {},
   "outputs": [
    {
     "name": "stdout",
     "output_type": "stream",
     "text": [
      "abc 321\n",
      "a sub-class dog\n"
     ]
    },
    {
     "ename": "AttributeError",
     "evalue": "'dog' object has no attribute '_dog__name'",
     "output_type": "error",
     "traceback": [
      "\u001b[1;31m---------------------------------------------------------------------------\u001b[0m",
      "\u001b[1;31mAttributeError\u001b[0m                            Traceback (most recent call last)",
      "\u001b[1;32m<ipython-input-62-cb796c48ee17>\u001b[0m in \u001b[0;36m<module>\u001b[1;34m()\u001b[0m\n\u001b[0;32m      2\u001b[0m \u001b[0mprint\u001b[0m\u001b[1;33m(\u001b[0m\u001b[0mspot\u001b[0m\u001b[1;33m.\u001b[0m\u001b[0mget_name\u001b[0m\u001b[1;33m(\u001b[0m\u001b[1;33m)\u001b[0m\u001b[1;33m,\u001b[0m \u001b[0mspot\u001b[0m\u001b[1;33m.\u001b[0m\u001b[0mget_weight\u001b[0m\u001b[1;33m(\u001b[0m\u001b[1;33m)\u001b[0m\u001b[1;33m)\u001b[0m\u001b[1;33m\u001b[0m\u001b[0m\n\u001b[0;32m      3\u001b[0m \u001b[0mspot\u001b[0m\u001b[1;33m.\u001b[0m\u001b[0mget_type\u001b[0m\u001b[1;33m(\u001b[0m\u001b[1;33m)\u001b[0m\u001b[1;33m\u001b[0m\u001b[0m\n\u001b[1;32m----> 4\u001b[1;33m \u001b[0mprint\u001b[0m\u001b[1;33m(\u001b[0m\u001b[0mspot\u001b[0m\u001b[1;33m.\u001b[0m\u001b[0mto_string\u001b[0m\u001b[1;33m(\u001b[0m\u001b[1;33m)\u001b[0m\u001b[1;33m)\u001b[0m\u001b[1;33m\u001b[0m\u001b[0m\n\u001b[0m",
      "\u001b[1;32m<ipython-input-61-1dc3e57ae9c4>\u001b[0m in \u001b[0;36mto_string\u001b[1;34m(self)\u001b[0m\n\u001b[0;32m     18\u001b[0m \u001b[1;33m\u001b[0m\u001b[0m\n\u001b[0;32m     19\u001b[0m     \u001b[1;32mdef\u001b[0m \u001b[0mto_string\u001b[0m\u001b[1;33m(\u001b[0m\u001b[0mself\u001b[0m\u001b[1;33m)\u001b[0m\u001b[1;33m:\u001b[0m\u001b[1;33m\u001b[0m\u001b[0m\n\u001b[1;32m---> 20\u001b[1;33m         return \"{} is {} cm tall and {} kg weight and say {} and his owner is {}\".format(self.__name,\n\u001b[0m\u001b[0;32m     21\u001b[0m                                                                 \u001b[0mself\u001b[0m\u001b[1;33m.\u001b[0m\u001b[0m__height\u001b[0m\u001b[1;33m,\u001b[0m\u001b[1;33m\u001b[0m\u001b[0m\n\u001b[0;32m     22\u001b[0m                                                                 \u001b[0mself\u001b[0m\u001b[1;33m.\u001b[0m\u001b[0m__weight\u001b[0m\u001b[1;33m,\u001b[0m\u001b[1;33m\u001b[0m\u001b[0m\n",
      "\u001b[1;31mAttributeError\u001b[0m: 'dog' object has no attribute '_dog__name'"
     ]
    }
   ],
   "source": [
    "spot = dog('abc', 123, 321, 'dddd', 'fffff')\n",
    "print(spot.get_name(), spot.get_weight())\n",
    "spot.get_type()\n"
   ]
  },
  {
   "cell_type": "code",
   "execution_count": null,
   "metadata": {},
   "outputs": [],
   "source": []
  }
 ],
 "metadata": {
  "kernelspec": {
   "display_name": "Python 3",
   "language": "python",
   "name": "python3"
  },
  "language_info": {
   "codemirror_mode": {
    "name": "ipython",
    "version": 3
   },
   "file_extension": ".py",
   "mimetype": "text/x-python",
   "name": "python",
   "nbconvert_exporter": "python",
   "pygments_lexer": "ipython3",
   "version": "3.7.0"
  }
 },
 "nbformat": 4,
 "nbformat_minor": 2
}
