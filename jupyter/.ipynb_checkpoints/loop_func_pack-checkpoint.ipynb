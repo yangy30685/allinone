{
 "cells": [
  {
   "cell_type": "code",
   "execution_count": 1,
   "metadata": {},
   "outputs": [
    {
     "name": "stdout",
     "output_type": "stream",
     "text": [
      "10\n",
      "this for loop\n",
      "12\n",
      "this for loop\n",
      "14\n",
      "this for loop\n"
     ]
    }
   ],
   "source": [
    "dryang = [10,11,12,13,14,15]\n",
    "for i in dryang:\n",
    "    if i%2 == 0:\n",
    "        print(i)\n",
    "    else:\n",
    "        continue\n",
    "    print('this for loop')"
   ]
  },
  {
   "cell_type": "code",
   "execution_count": 2,
   "metadata": {},
   "outputs": [
    {
     "name": "stdout",
     "output_type": "stream",
     "text": [
      "10\n",
      "this for loop\n"
     ]
    }
   ],
   "source": [
    "dryang = [10,11,12,13,14,15]\n",
    "for i in dryang:\n",
    "    if i%2 == 0:\n",
    "        print(i)\n",
    "    else:\n",
    "        break\n",
    "    print('this for loop')"
   ]
  },
  {
   "cell_type": "code",
   "execution_count": 3,
   "metadata": {},
   "outputs": [
    {
     "name": "stdout",
     "output_type": "stream",
     "text": [
      "3\n",
      "1 2\n",
      "7\n"
     ]
    },
    {
     "data": {
      "text/plain": [
       "(3, 4)"
      ]
     },
     "execution_count": 3,
     "metadata": {},
     "output_type": "execute_result"
    }
   ],
   "source": [
    "### function\n",
    "def add_ab(a=1,b=2):\n",
    "    print(a+b)\n",
    "    return a,b\n",
    "\n",
    "# use default values\n",
    "a,b = add_ab()\n",
    "print(a,b)\n",
    "\n",
    "add_ab(3,4)\n"
   ]
  },
  {
   "cell_type": "code",
   "execution_count": 4,
   "metadata": {},
   "outputs": [
    {
     "data": {
      "text/plain": [
       "6"
      ]
     },
     "execution_count": 4,
     "metadata": {},
     "output_type": "execute_result"
    }
   ],
   "source": [
    "def add_number(a, *args):\n",
    "    for i in args:\n",
    "        a+=i\n",
    "    return a\n",
    "add_number(1,2,3)"
   ]
  },
  {
   "cell_type": "code",
   "execution_count": 5,
   "metadata": {},
   "outputs": [
    {
     "name": "stdout",
     "output_type": "stream",
     "text": [
      "x ++ 22\n",
      "y ++ 33\n",
      "a is 123\n"
     ]
    }
   ],
   "source": [
    "def add_number2(a,**kwargs):\n",
    "    for arg, value in kwargs.items():\n",
    "        print(arg,\"++\",value)\n",
    "    print('a is',a) \n",
    "add_number2(123,x=22,y=33)"
   ]
  },
  {
   "cell_type": "code",
   "execution_count": 6,
   "metadata": {},
   "outputs": [
    {
     "name": "stdout",
     "output_type": "stream",
     "text": [
      "Overwriting dryang.py\n"
     ]
    }
   ],
   "source": [
    "%%writefile dryang.py\n",
    "# package\n",
    "# save as a python file\n",
    "\n",
    "def dryang_add(dryang_list):\n",
    "    dryang_sum = 0\n",
    "    for i in range(len(dryang_list)):\n",
    "        dryang_sum+=dryang_list[i]\n",
    "    return dryang_sum\n",
    "\n",
    "dryang_value = 999\n",
    "dryang_list = [1,2,3,4]\n",
    "\n",
    "print(dryang_add(dryang_list))"
   ]
  },
  {
   "cell_type": "code",
   "execution_count": 7,
   "metadata": {},
   "outputs": [
    {
     "name": "stdout",
     "output_type": "stream",
     "text": [
      "10\n"
     ]
    }
   ],
   "source": [
    "# read from python file\n",
    "%run dryang.py"
   ]
  },
  {
   "cell_type": "code",
   "execution_count": 9,
   "metadata": {},
   "outputs": [
    {
     "name": "stdout",
     "output_type": "stream",
     "text": [
      "999\n",
      "10\n",
      "110\n"
     ]
    }
   ],
   "source": [
    "import dryang\n",
    "\n",
    "# use the values from the imported file\n",
    "print(dryang.dryang_value)\n",
    "print(dryang.dryang_add(dryang.dryang_list))\n",
    "\n",
    "# use the value created here \n",
    "a_list= [11,22,33,44]\n",
    "a = dryang.dryang_add(a_list)\n",
    "print(a)"
   ]
  },
  {
   "cell_type": "code",
   "execution_count": 11,
   "metadata": {},
   "outputs": [
    {
     "name": "stdout",
     "output_type": "stream",
     "text": [
      "999\n"
     ]
    },
    {
     "data": {
      "text/plain": [
       "1"
      ]
     },
     "execution_count": 11,
     "metadata": {},
     "output_type": "execute_result"
    }
   ],
   "source": [
    "# alternative method to import\n",
    "\n",
    "from dryang import dryang_value,dryang_add\n",
    "print(dryang_value)\n",
    "dryang_add([1])"
   ]
  },
  {
   "cell_type": "code",
   "execution_count": 14,
   "metadata": {},
   "outputs": [],
   "source": [
    "# delete the dryang.py file\n",
    "import os\n",
    "os.remove('dryang.py')"
   ]
  },
  {
   "cell_type": "code",
   "execution_count": null,
   "metadata": {},
   "outputs": [],
   "source": []
  }
 ],
 "metadata": {
  "kernelspec": {
   "display_name": "Python 3",
   "language": "python",
   "name": "python3"
  },
  "language_info": {
   "codemirror_mode": {
    "name": "ipython",
    "version": 3
   },
   "file_extension": ".py",
   "mimetype": "text/x-python",
   "name": "python",
   "nbconvert_exporter": "python",
   "pygments_lexer": "ipython3",
   "version": "3.7.1"
  }
 },
 "nbformat": 4,
 "nbformat_minor": 2
}
