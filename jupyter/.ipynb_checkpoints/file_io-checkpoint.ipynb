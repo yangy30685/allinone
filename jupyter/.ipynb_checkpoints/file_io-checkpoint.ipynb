{
 "cells": [
  {
   "cell_type": "code",
   "execution_count": 32,
   "metadata": {},
   "outputs": [
    {
     "name": "stdout",
     "output_type": "stream",
     "text": [
      "Overwriting dryang.txt\n"
     ]
    }
   ],
   "source": [
    "%%writefile dryang.txt\n",
    "'''\n",
    "this is a comment \n",
    "it will be written into txt as well\n",
    "'''\n",
    "hello python\n",
    "simple is beautiful\n",
    "end"
   ]
  },
  {
   "cell_type": "code",
   "execution_count": 33,
   "metadata": {},
   "outputs": [
    {
     "name": "stdout",
     "output_type": "stream",
     "text": [
      "close return: None\n",
      "this is a list:  [\"'''\\n\", 'this is a comment \\n', 'it will be written into txt as well\\n', \"'''\\n\", 'hello python\\n', 'simple is beautiful\\n', 'end']\n",
      "\n",
      "\n",
      "------------------------------------------------------------\n",
      "\n",
      "\n",
      "'''\n",
      "this is a comment \n",
      "it will be written into txt as well\n",
      "'''\n",
      "hello python\n",
      "simple is beautiful\n",
      "end\n",
      "\n",
      "------------------------------------------------------------\n",
      "\n",
      "\n",
      "'''\n",
      "\n",
      "this is a comment \n",
      "\n",
      "it will be written into txt as well\n",
      "\n",
      "'''\n",
      "\n",
      "hello python\n",
      "\n",
      "simple is beautiful\n",
      "\n",
      "end\n"
     ]
    }
   ],
   "source": [
    "def sep_line():  \n",
    "    print('\\n')\n",
    "    print('-'*60)\n",
    "    print('\\n')\n",
    "    \n",
    "# read file\n",
    "txt_open = open('./dryang.txt','r')\n",
    "\n",
    "txt_line = txt_open.readlines()\n",
    "\n",
    "print('close return:', txt_open.close())\n",
    "print('this is a list: ', txt_line)\n",
    "sep_line()\n",
    "\n",
    "# txt_read = txt_open.read()\n",
    "# print(txt_read)\n",
    "\n",
    "for line in txt_line:\n",
    "    print(line, end = '')\n",
    "          \n",
    "sep_line()\n",
    "          \n",
    "for line in txt_line:\n",
    "    print(line)\n"
   ]
  },
  {
   "cell_type": "code",
   "execution_count": 34,
   "metadata": {},
   "outputs": [
    {
     "name": "stdout",
     "output_type": "stream",
     "text": [
      "'''\n",
      "this is a comment \n",
      "it will be written into txt as well\n",
      "'''\n",
      "hello python\n",
      "simple is beautiful\n",
      "endthis is another line\n",
      "this 2nd line\n",
      "this 3rd line\n",
      "\n"
     ]
    }
   ],
   "source": [
    "# write into file \n",
    "\n",
    "txt_write = open('./dryang.txt','a')\n",
    "txt_write.write('this is another line\\n')\n",
    "txt_write.write('this 2nd line\\n')\n",
    "txt_write.write('this 3rd line\\n')\n",
    "txt_write.close()\n",
    "\n",
    "txt = open('./dryang.txt','r').read()\n",
    "print(txt)"
   ]
  },
  {
   "cell_type": "code",
   "execution_count": null,
   "metadata": {},
   "outputs": [],
   "source": []
  }
 ],
 "metadata": {
  "kernelspec": {
   "display_name": "Python 3",
   "language": "python",
   "name": "python3"
  },
  "language_info": {
   "codemirror_mode": {
    "name": "ipython",
    "version": 3
   },
   "file_extension": ".py",
   "mimetype": "text/x-python",
   "name": "python",
   "nbconvert_exporter": "python",
   "pygments_lexer": "ipython3",
   "version": "3.7.0"
  }
 },
 "nbformat": 4,
 "nbformat_minor": 2
}
