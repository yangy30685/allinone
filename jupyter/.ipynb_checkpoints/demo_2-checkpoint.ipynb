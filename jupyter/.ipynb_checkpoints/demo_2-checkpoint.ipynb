{
 "cells": [
  {
   "cell_type": "code",
   "execution_count": 1,
   "metadata": {},
   "outputs": [
    {
     "data": {
      "text/plain": [
       "[12, 3, 4, 'abc', 6, 7]"
      ]
     },
     "execution_count": 1,
     "metadata": {},
     "output_type": "execute_result"
    }
   ],
   "source": [
    "# creat a list\n",
    "yang = [ 12,3,4,'abc',6,7]\n",
    "\n",
    "yang"
   ]
  },
  {
   "cell_type": "code",
   "execution_count": 2,
   "metadata": {},
   "outputs": [
    {
     "name": "stdout",
     "output_type": "stream",
     "text": [
      "[12, 3, 4, 'abc', 6, 7, ['my name', 'tom']]\n",
      "[12, 3, 4, ['dr', 'yang'], 'abc', 6, 7, ['my name', 'tom']]\n"
     ]
    }
   ],
   "source": [
    "# add a element in the end\n",
    "yang.append(['my name', 'tom'])\n",
    "print(yang)\n",
    "\n",
    "# insert a element by index \n",
    "yang.insert(3,['dr','yang'])\n",
    "print(yang)"
   ]
  },
  {
   "cell_type": "code",
   "execution_count": 3,
   "metadata": {},
   "outputs": [
    {
     "name": "stdout",
     "output_type": "stream",
     "text": [
      "[3, 4, 'abc', 6, 7, ['my name', 'tom']]\n"
     ]
    }
   ],
   "source": [
    "# delete by content\n",
    "yang.remove(12)\n",
    "yang.remove(['dr','yang'])\n",
    "print(yang)"
   ]
  },
  {
   "cell_type": "code",
   "execution_count": 4,
   "metadata": {},
   "outputs": [
    {
     "name": "stdout",
     "output_type": "stream",
     "text": [
      "[3, 4, 'abc', 6, 7]\n"
     ]
    }
   ],
   "source": [
    "# delete the last one (stack)\n",
    "yang.pop()\n",
    "print(yang)"
   ]
  },
  {
   "cell_type": "code",
   "execution_count": 5,
   "metadata": {},
   "outputs": [
    {
     "name": "stdout",
     "output_type": "stream",
     "text": [
      "[1, 23, 4, 5, 6, 7, 234, 6, 34]\n",
      "[1, 4, 5, 6, 6, 7, 23, 34, 234]\n"
     ]
    }
   ],
   "source": [
    "var_int = [1, 23, 4, 5, 6, 7, 234, 6, 34]\n",
    "print(var_int)\n",
    "\n",
    "# ascending number\n",
    "var_int_2 = sorted(var_int)\n",
    "print(var_int_2)"
   ]
  },
  {
   "cell_type": "code",
   "execution_count": 6,
   "metadata": {},
   "outputs": [
    {
     "data": {
      "text/plain": [
       "dict"
      ]
     },
     "execution_count": 6,
     "metadata": {},
     "output_type": "execute_result"
    }
   ],
   "source": [
    "# creat a dictionary\n",
    "dict_yang = {}\n",
    "type(dict_yang)"
   ]
  },
  {
   "cell_type": "code",
   "execution_count": 7,
   "metadata": {},
   "outputs": [
    {
     "data": {
      "text/plain": [
       "{'first': 123, 'second': 456}"
      ]
     },
     "execution_count": 7,
     "metadata": {},
     "output_type": "execute_result"
    }
   ],
   "source": [
    "# assign value \n",
    "dict_yang['first'] = 123\n",
    "dict_yang['second'] = 456\n",
    "dict_yang"
   ]
  },
  {
   "cell_type": "code",
   "execution_count": 8,
   "metadata": {},
   "outputs": [
    {
     "data": {
      "text/plain": [
       "456"
      ]
     },
     "execution_count": 8,
     "metadata": {},
     "output_type": "execute_result"
    }
   ],
   "source": [
    "# fetch the key value\n",
    "dict_yang['second']"
   ]
  },
  {
   "cell_type": "code",
   "execution_count": 9,
   "metadata": {},
   "outputs": [],
   "source": [
    "# value could be any tpye\n",
    "dict_sam = {'my':'abc','name':'def','is':'hgj'}"
   ]
  },
  {
   "cell_type": "code",
   "execution_count": 10,
   "metadata": {},
   "outputs": [
    {
     "data": {
      "text/plain": [
       "{'my': 'abc', 'name': 'def', 'is': 'hgj'}"
      ]
     },
     "execution_count": 10,
     "metadata": {},
     "output_type": "execute_result"
    }
   ],
   "source": [
    "dict_sam"
   ]
  },
  {
   "cell_type": "code",
   "execution_count": 21,
   "metadata": {},
   "outputs": [
    {
     "name": "stdout",
     "output_type": "stream",
     "text": [
      "{'my': 1, 'name': 2, 'is': 3}\n",
      "dict_keys(['my', 'name', 'is'])\n",
      "my\n",
      "name\n",
      "is\n",
      "<class 'dict_keys'>\n"
     ]
    },
    {
     "data": {
      "text/plain": [
       "2"
      ]
     },
     "execution_count": 21,
     "metadata": {},
     "output_type": "execute_result"
    }
   ],
   "source": [
    "# alternative way to create a dictionary\n",
    "dict_sam_1 = dict([('my',1),('name',2),('is',3)])\n",
    "print(dict_sam_1)\n",
    "\n",
    "# list all the keys\n",
    "temp_1 = dict_sam_1.keys()\n",
    "print(temp_1)\n",
    "\n",
    "for i in temp_1:\n",
    "    print(i)\n",
    "    \n",
    "print(type(temp_1))\n",
    "\n",
    "# get a value\n",
    "dict_sam_1.get('name')"
   ]
  },
  {
   "cell_type": "markdown",
   "metadata": {},
   "source": [
    "### 集合 set\n",
    "`保留唯一`"
   ]
  },
  {
   "cell_type": "code",
   "execution_count": 23,
   "metadata": {},
   "outputs": [
    {
     "name": "stdout",
     "output_type": "stream",
     "text": [
      "a set is [123, 123, 456, 789]\n"
     ]
    },
    {
     "data": {
      "text/plain": [
       "{1, 2, 3, 4, 5}"
      ]
     },
     "execution_count": 23,
     "metadata": {},
     "output_type": "execute_result"
    }
   ],
   "source": [
    "# create a set\n",
    "tang = [123,123,456,789]\n",
    "print('a set is',tang)\n",
    "\n",
    "# alternative way to create a set\n",
    "a = {1,2,3,4}\n",
    "b = {2,3,4,5}\n",
    "\n",
    "#combine 2 sets ignore the same element\n",
    "a.union(b)"
   ]
  },
  {
   "cell_type": "code",
   "execution_count": 24,
   "metadata": {},
   "outputs": [
    {
     "name": "stdout",
     "output_type": "stream",
     "text": [
      "True\n",
      "False\n",
      "False\n"
     ]
    }
   ],
   "source": [
    "# judge a element is in a set\n",
    "print(1 in a)\n",
    "print(1 not in a)\n",
    "print(b.issubset(a))"
   ]
  }
 ],
 "metadata": {
  "kernelspec": {
   "display_name": "Python 3",
   "language": "python",
   "name": "python3"
  },
  "language_info": {
   "codemirror_mode": {
    "name": "ipython",
    "version": 3
   },
   "file_extension": ".py",
   "mimetype": "text/x-python",
   "name": "python",
   "nbconvert_exporter": "python",
   "pygments_lexer": "ipython3",
   "version": "3.7.0"
  }
 },
 "nbformat": 4,
 "nbformat_minor": 2
}
