{
 "cells": [
  {
   "cell_type": "code",
   "execution_count": 11,
   "metadata": {},
   "outputs": [
    {
     "name": "stdout",
     "output_type": "stream",
     "text": [
      "1st item:  vuice\n",
      "['tomatoes', 'potatoes']\n",
      "4\n",
      "vuice\n"
     ]
    }
   ],
   "source": [
    "import random\n",
    "import sys\n",
    "import os\n",
    "\n",
    "grocery_list = ['vuice', 'tomatoes','potatoes','bananas']\n",
    "print('1st item: ',grocery_list[0])\n",
    "\n",
    "# print first 2 items\n",
    "print(grocery_list[1:3])\n",
    "print(len(grocery_list))\n",
    "\n",
    "'''\n",
    "compare the 1st letter's ascii number,\n",
    "then 2nd letter's ascii number\n",
    "'''\n",
    "print(max(grocery_list))"
   ]
  },
  {
   "cell_type": "code",
   "execution_count": 2,
   "metadata": {},
   "outputs": [
    {
     "name": "stdout",
     "output_type": "stream",
     "text": [
      "['wash car', 'pick uk kids', 'cash check']\n",
      "[['juice', 'tomatoes', 'potatoes', 'bananas'], ['wash car', 'pick uk kids', 'cash check']]\n"
     ]
    }
   ],
   "source": [
    "other_list = ['wash car', 'pick uk kids', 'cash check']\n",
    "print(other_list)\n",
    "\n",
    "# combine 2 lists\n",
    "print([grocery_list, other_list])"
   ]
  },
  {
   "cell_type": "code",
   "execution_count": 3,
   "metadata": {},
   "outputs": [
    {
     "name": "stdout",
     "output_type": "stream",
     "text": [
      "['juice', 'tomatoes', 'potatoes', 'bananas', 'onions']\n",
      "['juice', 'tomatoes', 'pos_2', 'potatoes', 'bananas', 'onions']\n"
     ]
    }
   ],
   "source": [
    "# add \n",
    "grocery_list.append('onions')\n",
    "print(grocery_list)\n",
    "\n",
    "# chose a postion to add\n",
    "grocery_list.insert(2,'pos_2')\n",
    "print(grocery_list)"
   ]
  },
  {
   "cell_type": "code",
   "execution_count": 4,
   "metadata": {},
   "outputs": [
    {
     "name": "stdout",
     "output_type": "stream",
     "text": [
      "['juice', 'tomatoes', 'pos_2', 'potatoes', 'onions']\n",
      "['juice', 'tomatoes', 'potatoes', 'onions']\n"
     ]
    }
   ],
   "source": [
    "# remove \n",
    "grocery_list.remove('bananas')\n",
    "print(grocery_list)\n",
    "\n",
    "# use del\n",
    "del grocery_list[2]\n",
    "print(grocery_list)"
   ]
  },
  {
   "cell_type": "code",
   "execution_count": 11,
   "metadata": {},
   "outputs": [
    {
     "name": "stdout",
     "output_type": "stream",
     "text": [
      "(3, 1, 4, 1, 5, 6, 9, 9)\n",
      "[3, 1, 4, 1, 5, 6, 9, 9]\n",
      "(3, 1, 4, 1, 5, 6, 9, 9)\n",
      "8\n"
     ]
    }
   ],
   "source": [
    "# tuple\n",
    "pi_tuple = (3, 1, 4, 1, 5, 6,9 ,9)\n",
    "print(pi_tuple)\n",
    "\n",
    "# turn tuple into list\n",
    "new_list = list(pi_tuple)\n",
    "print(new_tuple)\n",
    "\n",
    "# turn list into tuple\n",
    "new_tuple = tuple(new_list)\n",
    "print(new_tuple)\n",
    "print(len(new_tuple))"
   ]
  },
  {
   "cell_type": "code",
   "execution_count": 10,
   "metadata": {},
   "outputs": [
    {
     "name": "stdout",
     "output_type": "stream",
     "text": [
      "3\n",
      "hartley rathway\n",
      "dict_keys(['Fiddler', 'Pied Piper', 'abc'])\n",
      "dict_values(['isaac bowin', 'hartley rathway', 123])\n"
     ]
    }
   ],
   "source": [
    "# dictionary\n",
    "super_villains = {'Fiddler':'isaac bowin','Pied Piper':'hartley rathway','abc':123}\n",
    "\n",
    "#length of dictionary\n",
    "print(len(super_villains))\n",
    "print(super_villains.get('Pied Piper'))\n",
    "print(super_villains.keys())\n",
    "print(super_villains.values())"
   ]
  },
  {
   "cell_type": "code",
   "execution_count": 14,
   "metadata": {},
   "outputs": [
    {
     "name": "stdout",
     "output_type": "stream",
     "text": [
      "ok\n",
      "full ok\n"
     ]
    }
   ],
   "source": [
    "# if elif else sytax\n",
    "age = 22\n",
    "if age > 16 : \n",
    "    print('ok')\n",
    "else :\n",
    "    print('not ok')\n",
    "\n",
    "if age >=21:\n",
    "    print('full ok')\n",
    "elif age >=16:\n",
    "    print('mid ok')\n",
    "else:\n",
    "    print('not ok')\n"
   ]
  },
  {
   "cell_type": "code",
   "execution_count": 18,
   "metadata": {},
   "outputs": [
    {
     "ename": "SyntaxError",
     "evalue": "invalid syntax (<ipython-input-18-ba26a66fa728>, line 4)",
     "output_type": "error",
     "traceback": [
      "\u001b[1;36m  File \u001b[1;32m\"<ipython-input-18-ba26a66fa728>\"\u001b[1;36m, line \u001b[1;32m4\u001b[0m\n\u001b[1;33m    print('the number is %d'.%age)\u001b[0m\n\u001b[1;37m                             ^\u001b[0m\n\u001b[1;31mSyntaxError\u001b[0m\u001b[1;31m:\u001b[0m invalid syntax\n"
     ]
    }
   ],
   "source": [
    "if age != 21:\n",
    "    print('not equal to 21')\n",
    "else:\n",
    "    print('the number is %d'%age)"
   ]
  },
  {
   "cell_type": "code",
   "execution_count": 24,
   "metadata": {},
   "outputs": [
    {
     "name": "stdout",
     "output_type": "stream",
     "text": [
      "0 <-><---end\n",
      "1 <-><---end\n",
      "2 <-><---end\n",
      "3 <-><---end\n",
      "4 <-><---end\n",
      "5 <-><---end\n",
      "6 <-><---end\n",
      "7 <-><---end\n",
      "8 <-><---end\n",
      "9 <-><---end\n",
      "vuice\n",
      "tomatoes\n",
      "potatoes\n",
      "bananas\n",
      "[1, 2, 3, 4]\n",
      "[2, 3, 4, 5, 6, 6]\n",
      "[123123, 1231, 123, 333]\n"
     ]
    }
   ],
   "source": [
    "# for syntax\n",
    "for x in range(0,10):\n",
    "    print(x, '<->',end = '')\n",
    "    print('<---end')\n",
    "for y in grocery_list:\n",
    "    print(y)\n",
    "\n",
    "num_2d = [[1,2,3,4],[2,3,4,5,6,6],[123123,1231,123,333]]\n",
    "\n",
    "for   in num_2d:\n",
    "    for x\n",
    "    print(xy)\n"
   ]
  },
  {
   "cell_type": "code",
   "execution_count": 62,
   "metadata": {},
   "outputs": [
    {
     "name": "stdout",
     "output_type": "stream",
     "text": [
      "i'll catch you if you fail - the floor\n",
      "i'll catch you if you fail - the floo <=====end\n",
      "flo<----end\n",
      "a\n",
      "65\n",
      "a string\n"
     ]
    }
   ],
   "source": [
    "# string\n",
    "long_string = \"i'll catch you if you fail - the floor\"\n",
    "print(long_string[0:])\n",
    "\n",
    "# space \n",
    "print(long_string[0:-1],'<=====end')\n",
    "print(long_string[-5:-2]+'<----end')\n",
    "\n"
   ]
  },
  {
   "cell_type": "code",
   "execution_count": 71,
   "metadata": {},
   "outputs": [
    {
     "name": "stdout",
     "output_type": "stream",
     "text": [
      "a\n",
      "65\n",
      "a long string <-end->append to the previous line a string\n",
      "x is my favourite letter and my number is 123 number is 12.123457\n"
     ]
    }
   ],
   "source": [
    "# ascii to number\n",
    "print('%c' % chr(97))\n",
    "print('%d' % ord('A'))\n",
    "\n",
    "# no new line in the end\n",
    "print('%s' % 'a long string <-end->',end = '')\n",
    "print('%s' % ('append to the previous line a string'))\n",
    "print(\"%c is my %s and my number is %d number is %.6f\" % ('x','favourite letter', 123, 12.1234567))"
   ]
  },
  {
   "cell_type": "code",
   "execution_count": null,
   "metadata": {},
   "outputs": [],
   "source": []
  },
  {
   "cell_type": "code",
   "execution_count": null,
   "metadata": {},
   "outputs": [],
   "source": []
  }
 ],
 "metadata": {
  "kernelspec": {
   "display_name": "Python 3",
   "language": "python",
   "name": "python3"
  },
  "language_info": {
   "codemirror_mode": {
    "name": "ipython",
    "version": 3
   },
   "file_extension": ".py",
   "mimetype": "text/x-python",
   "name": "python",
   "nbconvert_exporter": "python",
   "pygments_lexer": "ipython3",
   "version": "3.7.0"
  }
 },
 "nbformat": 4,
 "nbformat_minor": 2
}
