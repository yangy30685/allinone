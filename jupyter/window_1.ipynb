{
 "cells": [
  {
   "cell_type": "code",
   "execution_count": 1,
   "metadata": {},
   "outputs": [
    {
     "ename": "FileNotFoundError",
     "evalue": "[Errno 2] No such file or directory: 'C:/Users/Administrator/Documents/GitHub/allinone/python/anchor.png'",
     "output_type": "error",
     "traceback": [
      "\u001b[1;31m---------------------------------------------------------------------------\u001b[0m",
      "\u001b[1;31mFileNotFoundError\u001b[0m                         Traceback (most recent call last)",
      "\u001b[1;32m<ipython-input-1-3738419a6edc>\u001b[0m in \u001b[0;36m<module>\u001b[1;34m\u001b[0m\n\u001b[0;32m     17\u001b[0m \u001b[1;31m# image directory\u001b[0m\u001b[1;33m\u001b[0m\u001b[1;33m\u001b[0m\u001b[1;33m\u001b[0m\u001b[0m\n\u001b[0;32m     18\u001b[0m \u001b[0mimage_dir\u001b[0m \u001b[1;33m=\u001b[0m \u001b[1;34m\"C:/Users/Administrator/Documents/GitHub/allinone/python/anchor.png\"\u001b[0m\u001b[1;33m\u001b[0m\u001b[1;33m\u001b[0m\u001b[0m\n\u001b[1;32m---> 19\u001b[1;33m \u001b[0mimage_pil\u001b[0m \u001b[1;33m=\u001b[0m \u001b[0mImage\u001b[0m\u001b[1;33m.\u001b[0m\u001b[0mopen\u001b[0m\u001b[1;33m(\u001b[0m\u001b[0mimage_dir\u001b[0m\u001b[1;33m)\u001b[0m\u001b[1;33m\u001b[0m\u001b[1;33m\u001b[0m\u001b[0m\n\u001b[0m\u001b[0;32m     20\u001b[0m \u001b[1;33m(\u001b[0m\u001b[0mimg_x\u001b[0m\u001b[1;33m,\u001b[0m\u001b[0mimg_y\u001b[0m\u001b[1;33m)\u001b[0m \u001b[1;33m=\u001b[0m \u001b[0mimage_pil\u001b[0m\u001b[1;33m.\u001b[0m\u001b[0msize\u001b[0m\u001b[1;33m\u001b[0m\u001b[1;33m\u001b[0m\u001b[0m\n\u001b[0;32m     21\u001b[0m \u001b[1;33m\u001b[0m\u001b[0m\n",
      "\u001b[1;32m~\\Anaconda3\\lib\\site-packages\\PIL\\Image.py\u001b[0m in \u001b[0;36mopen\u001b[1;34m(fp, mode)\u001b[0m\n\u001b[0;32m   2607\u001b[0m \u001b[1;33m\u001b[0m\u001b[0m\n\u001b[0;32m   2608\u001b[0m     \u001b[1;32mif\u001b[0m \u001b[0mfilename\u001b[0m\u001b[1;33m:\u001b[0m\u001b[1;33m\u001b[0m\u001b[1;33m\u001b[0m\u001b[0m\n\u001b[1;32m-> 2609\u001b[1;33m         \u001b[0mfp\u001b[0m \u001b[1;33m=\u001b[0m \u001b[0mbuiltins\u001b[0m\u001b[1;33m.\u001b[0m\u001b[0mopen\u001b[0m\u001b[1;33m(\u001b[0m\u001b[0mfilename\u001b[0m\u001b[1;33m,\u001b[0m \u001b[1;34m\"rb\"\u001b[0m\u001b[1;33m)\u001b[0m\u001b[1;33m\u001b[0m\u001b[1;33m\u001b[0m\u001b[0m\n\u001b[0m\u001b[0;32m   2610\u001b[0m         \u001b[0mexclusive_fp\u001b[0m \u001b[1;33m=\u001b[0m \u001b[1;32mTrue\u001b[0m\u001b[1;33m\u001b[0m\u001b[1;33m\u001b[0m\u001b[0m\n\u001b[0;32m   2611\u001b[0m \u001b[1;33m\u001b[0m\u001b[0m\n",
      "\u001b[1;31mFileNotFoundError\u001b[0m: [Errno 2] No such file or directory: 'C:/Users/Administrator/Documents/GitHub/allinone/python/anchor.png'"
     ]
    }
   ],
   "source": [
    "from PIL import Image, ImageTk\n",
    "# from Pillow import Image, ImageTk\n",
    "# import Pillow\n",
    "import tkinter as tk \n",
    "import tkinter.messagebox\n",
    "import pickle\n",
    "\n",
    "# create a image\n",
    "window = tk.Tk()\n",
    "window.title('Input ur title here')\n",
    "# size is small x \n",
    "window.geometry('1080x800') \n",
    " \n",
    "# import a pic\n",
    "canvas = tk.Canvas(window, width=1080, height=800, bg='green')\n",
    "\n",
    "# image directory\n",
    "image_dir = \"C:/Users/Administrator/Documents/GitHub/allinone/python/anchor.png\"\n",
    "image_pil = Image.open(image_dir)\n",
    "(img_x,img_y) = image_pil.size\n",
    "\n",
    "# tkinter only hangdle gif image \n",
    "# use PIL(jpg png) to convert\n",
    "image_tk = ImageTk.PhotoImage(image_pil)\n",
    "\n",
    "image = canvas.create_image(img_x/2+20, img_y/2+20, anchor='center', image=image_tk)\n",
    "# pack value top, bottom, left, or right\n",
    "canvas.pack(side='top')\n",
    "\n",
    "# create a label \n",
    "tk.Label(window, text='Inpurt ur label here ',font=('Arial', 16)).place()\n",
    "tk.Label(window, text='User name:', font=('Arial', 14)).place(x=20, y=img_y+80)\n",
    "tk.Label(window, text='Password:', font=('Arial', 14)).place(x=20, y=img_y+130)\n",
    " \n",
    "# input name\n",
    "var_usr_name = tk.StringVar()\n",
    "var_usr_name.set('example@python.com')\n",
    "entry_usr_name = tk.Entry(window, textvariable=var_usr_name, font=('Arial', 14))\n",
    "entry_usr_name.place(x=140,y=img_y+80)\n",
    "\n",
    "# input password\n",
    "var_usr_pwd = tk.StringVar()\n",
    "entry_usr_pwd = tk.Entry(window, textvariable=var_usr_pwd, font=('Arial', 14), show='*')\n",
    "entry_usr_pwd.place(x=140,y=img_y+130)\n",
    " \n",
    "# def login button\n",
    "def usr_login():\n",
    "    # get value \n",
    "    pass\n",
    " \n",
    "# def sign up function\n",
    "def usr_sign_up():\n",
    "    pass\n",
    " \n",
    "# button position\n",
    "btn_login = tk.Button(window, text='Login', command=usr_login)\n",
    "btn_login.place(x=120, y=img_y+170)\n",
    "btn_sign_up = tk.Button(window, text='Sign up', command=usr_sign_up)\n",
    "btn_sign_up.place(x=200, y=img_y+170)\n",
    " \n",
    "# loop main window\n",
    "window.mainloop()"
   ]
  },
  {
   "cell_type": "code",
   "execution_count": null,
   "metadata": {},
   "outputs": [],
   "source": []
  }
 ],
 "metadata": {
  "kernelspec": {
   "display_name": "Python 3",
   "language": "python",
   "name": "python3"
  },
  "language_info": {
   "codemirror_mode": {
    "name": "ipython",
    "version": 3
   },
   "file_extension": ".py",
   "mimetype": "text/x-python",
   "name": "python",
   "nbconvert_exporter": "python",
   "pygments_lexer": "ipython3",
   "version": "3.7.1"
  }
 },
 "nbformat": 4,
 "nbformat_minor": 2
}
